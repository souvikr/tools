{
 "cells": [
  {
   "cell_type": "code",
   "execution_count": 7,
   "id": "970773d2-fe9f-465a-9ecb-fd6f4237fe69",
   "metadata": {},
   "outputs": [
    {
     "name": "stdout",
     "output_type": "stream",
     "text": [
      "File saved as lei2_20240529-0000.zip\n",
      "CSV file saved as gleif-goldencopy-lei2-golden-copy.csv\n",
      "CSV saved!\n",
      "CPU times: total: 2.72 s\n",
      "Wall time: 1min 3s\n"
     ]
    }
   ],
   "source": [
    "%%time\n",
    "import requests\n",
    "import zipfile\n",
    "import os\n",
    "\n",
    "# URL of the ZIP file\n",
    "url = 'https://goldencopy.gleif.org/api/v2/golden-copies/publishes/lei2/20240529-0000.csv'\n",
    "\n",
    "# File names and directories\n",
    "zip_file_name = 'lei2_20240529-0000.zip'\n",
    "output_dir = '.'\n",
    "final_csv_name = 'gleif-goldencopy-lei2-golden-copy.csv'\n",
    "\n",
    "def download_file(url, file_name):\n",
    "    try:\n",
    "        # Send a HTTP request to the URL\n",
    "        response = requests.get(url)\n",
    "        \n",
    "        # Check if the request was successful\n",
    "        if response.status_code == 200:\n",
    "            # Open a file in write-binary mode and write the response content\n",
    "            with open(file_name, 'wb') as file:\n",
    "                file.write(response.content)\n",
    "            print(f'File saved as {file_name}')\n",
    "        else:\n",
    "            print(f'Failed to retrieve file: HTTP Status Code {response.status_code}')\n",
    "    except Exception as e:\n",
    "        print(f'An error occurred: {e}')\n",
    "\n",
    "def extract_csv_from_zip(zip_file, output_dir, final_csv_name):\n",
    "    try:\n",
    "        with zipfile.ZipFile(zip_file, 'r') as z:\n",
    "            # Extract all contents to the output directory\n",
    "            z.extractall(output_dir)\n",
    "            # Find the CSV file and rename it\n",
    "            for file in z.namelist():\n",
    "                if file.endswith('.csv'):\n",
    "                    extracted_csv_path = os.path.join(output_dir, file)\n",
    "                    final_csv_path = os.path.join(output_dir, final_csv_name)\n",
    "                    os.rename(extracted_csv_path, final_csv_path)\n",
    "                    print(f'CSV file saved as {final_csv_name}')\n",
    "                    return\n",
    "            raise Exception(\"No CSV file found in the zip archive\")\n",
    "    except Exception as e:\n",
    "        print(f'An error occurred while extracting the CSV: {e}')\n",
    "\n",
    "# Download the ZIP file\n",
    "download_file(url, zip_file_name)\n",
    "\n",
    "# Extract the CSV file and rename it\n",
    "extract_csv_from_zip(zip_file_name, output_dir, final_csv_name)\n",
    "print(\"CSV saved!\")"
   ]
  },
  {
   "cell_type": "code",
   "execution_count": 8,
   "id": "d84cb7e6-61e7-4256-88c3-b7bdaa7b50b3",
   "metadata": {},
   "outputs": [
    {
     "name": "stdout",
     "output_type": "stream",
     "text": [
      "CSV file saved as gleif-goldencopy-lei2-golden-copy.csv\n"
     ]
    },
    {
     "data": {
      "text/plain": [
       "(10000, 338)"
      ]
     },
     "execution_count": 8,
     "metadata": {},
     "output_type": "execute_result"
    }
   ],
   "source": [
    "import pandas as pd\n",
    "extract_csv_from_zip(zip_file_name, output_dir, final_csv_name)\n",
    "df = pd.read_csv('gleif-goldencopy-lei2-golden-copy.csv',nrows=10000,low_memory=False)\n",
    "df.shape"
   ]
  }
 ],
 "metadata": {
  "kernelspec": {
   "display_name": "Python 3 (ipykernel)",
   "language": "python",
   "name": "python3"
  },
  "language_info": {
   "codemirror_mode": {
    "name": "ipython",
    "version": 3
   },
   "file_extension": ".py",
   "mimetype": "text/x-python",
   "name": "python",
   "nbconvert_exporter": "python",
   "pygments_lexer": "ipython3",
   "version": "3.11.7"
  }
 },
 "nbformat": 4,
 "nbformat_minor": 5
}
